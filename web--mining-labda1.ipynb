{
 "cells": [
  {
   "cell_type": "code",
   "execution_count": 1,
   "id": "73655a14",
   "metadata": {},
   "outputs": [],
   "source": [
    "import nltk"
   ]
  },
  {
   "cell_type": "code",
   "execution_count": 2,
   "id": "5ca97aae",
   "metadata": {},
   "outputs": [
    {
     "name": "stderr",
     "output_type": "stream",
     "text": [
      "[nltk_data] Downloading package punkt to\n",
      "[nltk_data]     C:\\Users\\Asus\\AppData\\Roaming\\nltk_data...\n",
      "[nltk_data]   Package punkt is already up-to-date!\n",
      "[nltk_data] Downloading package stopwords to\n",
      "[nltk_data]     C:\\Users\\Asus\\AppData\\Roaming\\nltk_data...\n",
      "[nltk_data]   Package stopwords is already up-to-date!\n"
     ]
    },
    {
     "data": {
      "text/plain": [
       "True"
      ]
     },
     "execution_count": 2,
     "metadata": {},
     "output_type": "execute_result"
    }
   ],
   "source": [
    "nltk.download('punkt')\n",
    "nltk.download('stopwords')"
   ]
  },
  {
   "cell_type": "code",
   "execution_count": 3,
   "id": "416d5f0b",
   "metadata": {},
   "outputs": [
    {
     "name": "stdout",
     "output_type": "stream",
     "text": [
      "Enter the input you want to tokenize: \n",
      "What is Web Mining? Web Mining is the process of ‘’Data Mining” techniques, and extract information from Web documents and services. The main purpose of web mining is discovering useful information from the World-Wide Web and it’s usage patterns.\n",
      " \n",
      "Text before tokenization is:\n",
      "What is Web Mining? Web Mining is the process of ‘’Data Mining” techniques, and extract information from Web documents and services. The main purpose of web mining is discovering useful information from the World-Wide Web and it’s usage patterns.\n",
      " \n",
      "Text after tokenization is:\n",
      "['What', 'is', 'Web', 'Mining', '?', 'Web', 'Mining', 'is', 'the', 'process', 'of', '‘', '’', 'Data', 'Mining', '”', 'techniques', ',', 'and', 'extract', 'information', 'from', 'Web', 'documents', 'and', 'services', '.', 'The', 'main', 'purpose', 'of', 'web', 'mining', 'is', 'discovering', 'useful', 'information', 'from', 'the', 'World-Wide', 'Web', 'and', 'it', '’', 's', 'usage', 'patterns', '.']\n"
     ]
    }
   ],
   "source": [
    "from nltk import word_tokenize\n",
    "input_text = input(\"Enter the input you want to tokenize: \\n\")\n",
    "print(\" \\nText before tokenization is:\")\n",
    "print(input_text)\n",
    "input_text_tokens = word_tokenize(input_text)\n",
    "print(\" \\nText after tokenization is:\")\n",
    "print(input_text_tokens)"
   ]
  },
  {
   "cell_type": "code",
   "execution_count": 4,
   "id": "b93fd145",
   "metadata": {},
   "outputs": [
    {
     "name": "stdout",
     "output_type": "stream",
     "text": [
      "Enter the input you want to tokenize: \n",
      "What is Web Mining? Web Mining is the process of ‘’Data Mining” techniques, and extract information from Web documents and services. The main purpose of web mining is discovering useful information from the World-Wide Web and it’s usage patterns.\n",
      " \n",
      "Sentence before tokenization is:\n",
      "What is Web Mining? Web Mining is the process of ‘’Data Mining” techniques, and extract information from Web documents and services. The main purpose of web mining is discovering useful information from the World-Wide Web and it’s usage patterns.\n",
      " \n",
      "Sentence after tokenization is:\n",
      "['What is Web Mining?', 'Web Mining is the process of ‘’Data Mining” techniques, and extract information from Web documents and services.', 'The main purpose of web mining is discovering useful information from the World-Wide Web and it’s usage patterns.']\n"
     ]
    }
   ],
   "source": [
    "from nltk import sent_tokenize\n",
    "input_text = input(\"Enter the input you want to tokenize: \\n\")\n",
    "print(\" \\nSentence before tokenization is:\")\n",
    "print(input_text)\n",
    "input_text_tokens = sent_tokenize(input_text)\n",
    "print(\" \\nSentence after tokenization is:\")\n",
    "print(input_text_tokens)"
   ]
  },
  {
   "cell_type": "code",
   "execution_count": 5,
   "id": "1ba610a6",
   "metadata": {},
   "outputs": [
    {
     "name": "stdout",
     "output_type": "stream",
     "text": [
      "Enter the input you want to tokenize: \n",
      "What is Web Mining? Web Mining is the process of ‘’Data Mining” techniques, and extract information from Web documents and services. The main purpose of web mining is discovering useful information from the World-Wide Web and it’s usage patterns.\n",
      "What is Web Mining Web Mining is the process of Data Mining techniques and extract information from Web documents and services The main purpose of web mining is discovering useful information from the WorldWide Web and its usage patterns\n",
      "\n",
      "['Web', 'Mining', 'Web', 'Mining', 'process', 'Data', 'Mining', 'techniques', 'extract', 'information', 'Web', 'documents', 'services', 'main', 'purpose', 'web', 'mining', 'discovering', 'useful', 'information', 'WorldWide', 'Web', 'usage', 'patterns']\n"
     ]
    }
   ],
   "source": [
    "from nltk.corpus import stopwords\n",
    "from nltk.tokenize import word_tokenize\n",
    "punctuations = '''‘’!()-[]{};:'”\"\\,<>./?@#$%^&*_~'''\n",
    "\n",
    "input_text = input(\"Enter the input you want to tokenize: \\n\")\n",
    "\n",
    "no_punctuations = \"\"\n",
    "for char in input_text:\n",
    "    if char not in punctuations:\n",
    "        no_punctuations = no_punctuations + char\n",
    "\n",
    "# display the unpunctuated string\n",
    "print(no_punctuations)\n",
    "print()\n",
    "\n",
    "input_text_tokens = word_tokenize(no_punctuations)\n",
    "\n",
    "tokens_without_sw = [word for word in input_text_tokens if not word.lower() in stopwords.words()]\n",
    "\n",
    "print(tokens_without_sw)"
   ]
  },
  {
   "cell_type": "code",
   "execution_count": null,
   "id": "c1e29663",
   "metadata": {},
   "outputs": [],
   "source": []
  }
 ],
 "metadata": {
  "kernelspec": {
   "display_name": "Python 3 (ipykernel)",
   "language": "python",
   "name": "python3"
  },
  "language_info": {
   "codemirror_mode": {
    "name": "ipython",
    "version": 3
   },
   "file_extension": ".py",
   "mimetype": "text/x-python",
   "name": "python",
   "nbconvert_exporter": "python",
   "pygments_lexer": "ipython3",
   "version": "3.9.7"
  }
 },
 "nbformat": 4,
 "nbformat_minor": 5
}
