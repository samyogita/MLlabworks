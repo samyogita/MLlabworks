{
 "cells": [
  {
   "cell_type": "markdown",
   "metadata": {},
   "source": [
    "# **First Program**"
   ]
  },
  {
   "cell_type": "code",
   "execution_count": 1,
   "metadata": {},
   "outputs": [
    {
     "name": "stdout",
     "output_type": "stream",
     "text": [
      "Hello World\n"
     ]
    }
   ],
   "source": [
    "print(\"Hello World\")"
   ]
  },
  {
   "cell_type": "code",
   "execution_count": 1,
   "metadata": {},
   "outputs": [
    {
     "name": "stdout",
     "output_type": "stream",
     "text": [
      "Hello everyone\n"
     ]
    }
   ],
   "source": [
    "print(\"Hello everyone\")"
   ]
  },
  {
   "cell_type": "markdown",
   "metadata": {},
   "source": [
    "# Exam1"
   ]
  },
  {
   "cell_type": "code",
   "execution_count": null,
   "metadata": {},
   "outputs": [],
   "source": [
    "&\n",
    "&&\n",
    "&&&\n",
    "&&\n",
    "&\n",
    "&\n",
    "&&\n",
    "&&&\n",
    "&&\n",
    "&\n",
    ".........."
   ]
  },
  {
   "cell_type": "code",
   "execution_count": 20,
   "metadata": {},
   "outputs": [
    {
     "name": "stdout",
     "output_type": "stream",
     "text": [
      "Enter the value of n3\n",
      "&\n",
      "&&\n",
      "&&&\n",
      "&&\n",
      "&\n",
      "&\n",
      "&&\n",
      "&&&\n",
      "&&\n",
      "&\n",
      "&\n",
      "&&\n",
      "&&&\n",
      "&&\n",
      "&\n"
     ]
    }
   ],
   "source": [
    "n =int(input('Enter the value of n'))\n",
    "s=''\n",
    "while(n!=0):\n",
    "    for i in range(1,4):\n",
    "        for j in range(0,i):\n",
    "            s=s+'&'\n",
    "        print(s)\n",
    "        s=''\n",
    "    for i in range(1,3):\n",
    "        for j in range(3,i,-1):\n",
    "            s=s+'&'\n",
    "        print(s)\n",
    "        s=''\n",
    "    n-=1"
   ]
  },
  {
   "cell_type": "code",
   "execution_count": 32,
   "metadata": {},
   "outputs": [
    {
     "name": "stdout",
     "output_type": "stream",
     "text": [
      "&\n",
      "&&\n",
      "&&&\n",
      "&&\n",
      "&\n",
      "&\n",
      "&&\n",
      "&&&\n",
      "&&\n",
      "&\n",
      "&\n",
      "&&\n",
      "&&&\n",
      "&&\n",
      "&\n",
      "\n"
     ]
    }
   ],
   "source": [
    "n=3\n",
    "s=''\n",
    "for x in range(0,n):\n",
    "    for i in range(1,4):\n",
    "        for j in range(0,i):\n",
    "            s=s+'&'\n",
    "        s=s+'\\n'\n",
    "    for i in range(3,1,-1):\n",
    "        for j in range(i-1,0,-1):\n",
    "            s+='&'\n",
    "        s=s+'\\n'\n",
    "print(s)"
   ]
  },
  {
   "cell_type": "code",
   "execution_count": null,
   "metadata": {},
   "outputs": [],
   "source": []
  }
 ],
 "metadata": {
  "kernelspec": {
   "display_name": "Python 3 (ipykernel)",
   "language": "python",
   "name": "python3"
  },
  "language_info": {
   "codemirror_mode": {
    "name": "ipython",
    "version": 3
   },
   "file_extension": ".py",
   "mimetype": "text/x-python",
   "name": "python",
   "nbconvert_exporter": "python",
   "pygments_lexer": "ipython3",
   "version": "3.9.7"
  }
 },
 "nbformat": 4,
 "nbformat_minor": 4
}
