{
 "cells": [
  {
   "cell_type": "code",
   "execution_count": 1,
   "id": "adbbd01c",
   "metadata": {},
   "outputs": [],
   "source": [
    "import numpy as np\n",
    "import pandas as pd\n",
    "import matplotlib.pyplot as plt"
   ]
  },
  {
   "cell_type": "code",
   "execution_count": 2,
   "id": "a67ba2fe",
   "metadata": {},
   "outputs": [
    {
     "name": "stdout",
     "output_type": "stream",
     "text": [
      "Estimated coefficients:\n",
      "b_0 = -205.60     \n",
      "b_1 = 5.69\n",
      "Input height:\n",
      "75\n",
      "Predicted weight:\n",
      "220.93\n"
     ]
    },
    {
     "data": {
      "image/png": "[encoded data removed]",
      "text/plain": [
       "<Figure size 432x288 with 1 Axes>"
      ]
     },
     "metadata": {
      "needs_background": "light"
     },
     "output_type": "display_data"
    }
   ],
   "source": [
    "from sklearn.linear_model import LinearRegression\n",
    "from sklearn.model_selection import train_test_split\n",
    "from sklearn.metrics import mean_absolute_error\n",
    "from sklearn.metrics import mean_squared_error\n",
    "\n",
    "\n",
    "data = pd.read_csv(\"height-weight.csv\")\n",
    "\n",
    "def estimate_coef(x, y):\n",
    "    # observations/points\n",
    "    n = np.size(x)\n",
    "    \n",
    "    # mean of x and y vector\n",
    "    m_x = np.mean(x)\n",
    "    m_y = np.mean(y)\n",
    "    \n",
    "    # cross-deviation and deviation about x\n",
    "    SS_xy = np.sum(y*x) - n*m_y*m_x\n",
    "    SS_xx = np.sum(x*x) - n*m_x*m_x\n",
    "    \n",
    "    # regression coefficients\n",
    "    b_1 = SS_xy / SS_xx\n",
    "    b_0 = m_y - b_1*m_x\n",
    "    \n",
    "    return (b_0, b_1)\n",
    "\n",
    "\n",
    "def plot_regression_line(x, y, b):\n",
    "    # plotting the  points as scatter plot\n",
    "    plt.scatter(x, y, color = \"m\",\n",
    "                marker = \"o\", s = 30)\n",
    "    \n",
    "    # predicted vector\n",
    "    y_pred = b[0] + b[1]*x\n",
    "    \n",
    "    # plotting the regression line\n",
    "    plt.plot(x, y_pred, color = \"g\")\n",
    "    \n",
    "    # putting labels\n",
    "    plt.xlabel('height')\n",
    "    plt.ylabel('weight')\n",
    "    \n",
    "    # function to show plot\n",
    "    plt.show()\n",
    "    \n",
    "\n",
    "def predict(b_0, b_1):\n",
    "    print(\"Input height:\")\n",
    "    x = int(input())\n",
    "    print(\"Predicted weight:\")\n",
    "    exp_y = b_0 + b_1*x\n",
    "    print(\"{:.f}\".format(exp_y))\n",
    "    plt.scatter(x, exp_y, color = \"r\",\n",
    "                marker = \"o\", s = 30)\n",
    "\n",
    "\n",
    "def predict(b_0, b_1):\n",
    "    print(\"Input height:\")\n",
    "    x = int(input())\n",
    "    print(\"Predicted weight:\")\n",
    "    exp_y = b_0 + b_1*x\n",
    "    print(\"{:.2f}\".format(exp_y))\n",
    "    plt.scatter(x, exp_y, color = \"b\",\n",
    "                marker = \"o\", s = 30)\n",
    "\n",
    "def main():\n",
    "    data= pd.read_csv('height-weight.csv')\n",
    "    \n",
    "    # Create target object and call it y\n",
    "    y = data.Weight\n",
    "    \n",
    "    # Create x \n",
    "    x=data.Height\n",
    "    \n",
    "  \n",
    " \n",
    "    # estimating coefficients\n",
    "    b = estimate_coef(x, y)\n",
    "    print(\"Estimated coefficients:\\nb_0 = {:.2f} \\\n",
    "    \\nb_1 = {:.2f}\".format(b[0], b[1]))\n",
    "    \n",
    "    predict(b[0], b[1])\n",
    "\n",
    "    # plotting regression line\n",
    "    plot_regression_line(x, y, b)\n",
    "\n",
    "if __name__ == \"__main__\":\n",
    "    main()"
   ]
  },
  {
   "cell_type": "code",
   "execution_count": 3,
   "id": "12fe6383",
   "metadata": {},
   "outputs": [
    {
     "name": "stdout",
     "output_type": "stream",
     "text": [
      "[204.98363778 184.15186846 168.731883   206.97178807 204.40222748\n",
      " 187.91866725 172.98656314 192.18142016 184.17006955 203.67240108\n",
      " 213.04850398 180.49772129 191.73021014 180.24191945 175.05257593\n",
      " 214.23823553 161.24111997 199.88455462 201.04611113 186.43160894\n",
      " 188.56351506 203.576636   173.89206868 195.56653762 214.67531947\n",
      " 187.02287809 171.1519568  198.09553798 167.98372237 163.84460402\n",
      " 171.63069445 186.79752483 220.95317531]\n",
      "Mean Absolute Error: 9.198335899994742\n",
      "Mean Squared Error: 152.25763169848733\n",
      "Mean Root Squared Error: 12.339271927406712\n"
     ]
    }
   ],
   "source": [
    "data= pd.read_csv('height-weight.csv')\n",
    "\n",
    "    \n",
    "# Create target object \n",
    "y = data.Weight\n",
    "    \n",
    "# Create x \n",
    "x=data.Height\n",
    "\n",
    "x = data.iloc[:, 0].values\n",
    "y = data.iloc[:, 1].values\n",
    "x = x.reshape(-1,1)\n",
    "\n",
    "# Splitting the Dataset\n",
    "x_train, x_test, y_train, y_test = train_test_split(x, y, test_size= 0.33, random_state= 101)\n",
    "#print(x_train)\n",
    "#print(y_train)\n",
    "\n",
    "# Instantiating LinearRegression() Model\n",
    "lr = LinearRegression()\n",
    "\n",
    "# Training/Fitting the Model\n",
    "lr.fit(x_train, y_train)\n",
    "\n",
    "# Making Predictions\n",
    "#lr.predict(x_test)\n",
    "pred = lr.predict(x_test)\n",
    "print(pred)\n",
    "\n",
    "# Evaluating Model's Performance\n",
    "print('Mean Absolute Error:', mean_absolute_error(y_test, pred))\n",
    "print('Mean Squared Error:', mean_squared_error(y_test, pred))\n",
    "print('Mean Root Squared Error:', np.sqrt(mean_squared_error(y_test, pred)))"
   ]
  },
  {
   "cell_type": "code",
   "execution_count": null,
   "id": "482c9a9c",
   "metadata": {},
   "outputs": [],
   "source": []
  }
 ],
 "metadata": {
  "kernelspec": {
   "display_name": "Python 3 (ipykernel)",
   "language": "python",
   "name": "python3"
  },
  "language_info": {
   "codemirror_mode": {
    "name": "ipython",
    "version": 3
   },
   "file_extension": ".py",
   "mimetype": "text/x-python",
   "name": "python",
   "nbconvert_exporter": "python",
   "pygments_lexer": "ipython3",
   "version": "3.9.7"
  }
 },
 "nbformat": 4,
 "nbformat_minor": 5
}
