{
 "cells": [
  {
   "cell_type": "markdown",
   "id": "e72b58f8",
   "metadata": {},
   "source": [
    "## Importing files and packages"
   ]
  },
  {
   "cell_type": "code",
   "execution_count": 1,
   "id": "bccfbe75",
   "metadata": {},
   "outputs": [],
   "source": [
    "import math\n",
    "from math import log \n",
    "from math import floor"
   ]
  },
  {
   "cell_type": "markdown",
   "id": "7c438f31",
   "metadata": {},
   "source": [
    "### Elias gamma encoding and decoding for even numbers ranging from 1 to 20"
   ]
  },
  {
   "cell_type": "code",
   "execution_count": 2,
   "id": "41eb93d9",
   "metadata": {},
   "outputs": [
    {
     "name": "stdout",
     "output_type": "stream",
     "text": [
      "\n",
      "The number is:  2\n",
      "The elias gamma code is: 010\n",
      "The elias gamma decoded code is:  2\n",
      "\n",
      "The number is:  4\n",
      "The elias gamma code is: 00100\n",
      "The elias gamma decoded code is:  4\n",
      "\n",
      "The number is:  6\n",
      "The elias gamma code is: 00110\n",
      "The elias gamma decoded code is:  6\n",
      "\n",
      "The number is:  8\n",
      "The elias gamma code is: 0001000\n",
      "The elias gamma decoded code is:  8\n",
      "\n",
      "The number is:  10\n",
      "The elias gamma code is: 0001010\n",
      "The elias gamma decoded code is:  10\n",
      "\n",
      "The number is:  12\n",
      "The elias gamma code is: 0001100\n",
      "The elias gamma decoded code is:  12\n",
      "\n",
      "The number is:  14\n",
      "The elias gamma code is: 0001110\n",
      "The elias gamma decoded code is:  14\n",
      "\n",
      "The number is:  16\n",
      "The elias gamma code is: 000010000\n",
      "The elias gamma decoded code is:  16\n",
      "\n",
      "The number is:  18\n",
      "The elias gamma code is: 000010010\n",
      "The elias gamma decoded code is:  18\n",
      "\n",
      "The number is:  20\n",
      "The elias gamma code is: 000010100\n",
      "The elias gamma decoded code is:  20\n",
      "None\n"
     ]
    }
   ],
   "source": [
    "log2 = lambda x: log(x, 2)\n",
    "def Unary(x):\n",
    "    return(x-1)*'0'+'1'\n",
    "def Binary(x, l=1):\n",
    "    s='{0:0%db}'% l\n",
    "    return s.format(x)\n",
    "def EliasGammaDecoding(encoded):\n",
    "    num = list(encoded)\n",
    "    count = 0\n",
    "    while True:\n",
    "        if not num[count] == '0':\n",
    "            break\n",
    "        count = count + 1\n",
    "    num = num[count:2*count+1]\n",
    "    n = 0\n",
    "    num.reverse()    \n",
    "    for i in range(len(num)):\n",
    "        if num[i] == '1':\n",
    "            n = n + math.pow(2, i)\n",
    "    return int(n)      \n",
    "def EliasGamma():\n",
    "    for x in range (1, 21):\n",
    "        if(x % 2 == 0):\n",
    "            if(x!=0): # Check if 0 or not\n",
    "                n = 1 + int(log2(x))\n",
    "                b = x - 2 ** (int(log2(x)))\n",
    "                l = int(log2(x))\n",
    "                code = Unary(n) + Binary(b,l)\n",
    "                print('The number is: ', x)\n",
    "                print('The elias gamma code is:', code)\n",
    "                print('The elias gamma decoded code is: ', EliasGammaDecoding(code))   \n",
    "    x = x + 1  \n",
    "print(EliasGamma())"
   ]
  },
  {
   "cell_type": "code",
   "execution_count": null,
   "id": "84844294",
   "metadata": {},
   "outputs": [],
   "source": [
    "\n"
   ]
  }
 ],
 "metadata": {
  "kernelspec": {
   "display_name": "Python 3 (ipykernel)",
   "language": "python",
   "name": "python3"
  },
  "language_info": {
   "codemirror_mode": {
    "name": "ipython",
    "version": 3
   },
   "file_extension": ".py",
   "mimetype": "text/x-python",
   "name": "python",
   "nbconvert_exporter": "python",
   "pygments_lexer": "ipython3",
   "version": "3.9.7"
  }
 },
 "nbformat": 4,
 "nbformat_minor": 5
}
